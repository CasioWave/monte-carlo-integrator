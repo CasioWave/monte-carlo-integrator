{
 "cells": [
  {
   "cell_type": "markdown",
   "id": "28bc1489-d393-49d9-8d92-e36b513a93b5",
   "metadata": {},
   "source": [
    "# Monte-Carlo Integration"
   ]
  },
  {
   "cell_type": "markdown",
   "id": "42d2358b-4a47-4c7f-9308-dd247215e906",
   "metadata": {},
   "source": [
    "# Approximating the value of pi"
   ]
  },
  {
   "cell_type": "code",
   "execution_count": 12,
   "id": "b4dc9079-eda1-4d8e-a0a5-e3bcfa0a77ef",
   "metadata": {},
   "outputs": [
    {
     "name": "stdout",
     "output_type": "stream",
     "text": [
      "3.144784\n"
     ]
    }
   ],
   "source": [
    "from random import random\n",
    "\n",
    "n = 500000\n",
    "circ = 0\n",
    "ncirc = 0\n",
    "for i in range(n):\n",
    "    x = random()\n",
    "    y = random()\n",
    "    if x**2 + y**2 > 1:\n",
    "        ncirc += 1\n",
    "    else:\n",
    "        circ += 1\n",
    "\n",
    "print(4*((circ)/(ncirc+circ)))"
   ]
  },
  {
   "cell_type": "code",
   "execution_count": 16,
   "id": "53f851fc-8e3e-47da-85eb-2c5697f0e1d0",
   "metadata": {},
   "outputs": [],
   "source": [
    "# Numerical integrator using Monte-Carlo methods"
   ]
  },
  {
   "cell_type": "code",
   "execution_count": 15,
   "id": "778726e8-de3d-4938-9b96-7acde58e072c",
   "metadata": {},
   "outputs": [
    {
     "name": "stdout",
     "output_type": "stream",
     "text": [
      "1.9981157348804846\n"
     ]
    }
   ],
   "source": [
    "from numpy import linspace, sin, pi\n",
    "def f(x):\n",
    "    return sin(x)\n",
    "\n",
    "s = 0 #Start of the integration interval\n",
    "e = pi #End of the integration interval\n",
    "\n",
    "n = 50000\n",
    "\n",
    "l = linspace(s,e,10000)\n",
    "\n",
    "val = [f(i) for i in l]\n",
    "\n",
    "maximum = max(val)\n",
    "minimum = min(val)\n",
    "\n",
    "area_rect = (e-s)*maximum + (e-s)*minimum\n",
    "\n",
    "area_pos = 0\n",
    "area_neg = 0\n",
    "rect = 0\n",
    "\n",
    "for i in range(n):\n",
    "    x = s + (random()*(abs(e-s)))\n",
    "    y = minimum + (random()*((abs(minimum-maximum))))\n",
    "    v = f(x)\n",
    "    if y >= 0:\n",
    "        above_x = True\n",
    "    if y < 0:\n",
    "        above_x = False\n",
    "    \n",
    "    if abs(y) <= abs(v):\n",
    "        under_func = True\n",
    "    if abs(y) >= abs(v):\n",
    "        under_func = False\n",
    "\n",
    "    if above_x and under_func:\n",
    "        area_pos += 1\n",
    "    elif not(above_x) and under_func:\n",
    "        area_neg += 1\n",
    "    elif not(under_func):\n",
    "        rect += 1\n",
    "\n",
    "total = area_pos + area_neg + rect\n",
    "\n",
    "area = ((area_pos - area_neg)/total)*area_rect\n",
    "print(area)"
   ]
  },
  {
   "cell_type": "code",
   "execution_count": null,
   "id": "18de95fa-b915-447a-83b7-3a0860073975",
   "metadata": {},
   "outputs": [],
   "source": []
  }
 ],
 "metadata": {
  "kernelspec": {
   "display_name": "Python 3 (ipykernel)",
   "language": "python",
   "name": "python3"
  },
  "language_info": {
   "codemirror_mode": {
    "name": "ipython",
    "version": 3
   },
   "file_extension": ".py",
   "mimetype": "text/x-python",
   "name": "python",
   "nbconvert_exporter": "python",
   "pygments_lexer": "ipython3",
   "version": "3.11.7"
  }
 },
 "nbformat": 4,
 "nbformat_minor": 5
}
